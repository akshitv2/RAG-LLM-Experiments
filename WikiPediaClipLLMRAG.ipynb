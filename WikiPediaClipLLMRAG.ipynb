{
 "cells": [
  {
   "cell_type": "code",
   "id": "initial_id",
   "metadata": {
    "collapsed": true,
    "jupyter": {
     "is_executing": true
    },
    "ExecuteTime": {
     "start_time": "2025-08-27T14:08:42.123519Z"
    }
   },
   "source": [
    "from RAGUtils.WikipediaDBCreatpr import embed_corpus, load_and_chunk_wiki\n",
    "import spacy\n",
    "from Models.Encoder.ClipTextEncoder import ClipTextEncoder\n",
    "from config.Config import WikiPediaConfig\n",
    "import yaml\n",
    "from utils.CreateDirs import load_project_config\n",
    "\n",
    "cfg = load_project_config(path = \"./config/config.yaml\")\n",
    "nlp = spacy.load(\"en_core_web_sm\", disable=[\"ner\", \"parser\"])\n",
    "encoder = ClipTextEncoder(cfg[\"encoder\"][\"clip_model_name\"])\n",
    "faissIndex, meta = embed_corpus(encoder = encoder, text_chunks = load_and_chunk_wiki(cfg, nlp=nlp), cfg=cfg)"
   ],
   "outputs": [],
   "execution_count": null
  },
  {
   "metadata": {},
   "cell_type": "code",
   "source": [
    "from utils.QueryAndAsnwering import search_and_answer\n",
    "example_query = \"Who is the founder of Airtel?\"\n",
    "print(f\"\\nQuery: {example_query}\")\n",
    "search_and_answer(query = example_query, fidx = faissIndex, encoder=encoder, metadata=meta, cfg=cfg, top_k=10)\n",
    "# print(f\"\\nDone. Index saved to: {CFG.index_path}\\nMetadata saved to: {CFG.meta_path}\")"
   ],
   "id": "417dd13c8ceb8717",
   "outputs": [],
   "execution_count": null
  }
 ],
 "metadata": {
  "kernelspec": {
   "display_name": "Python [conda env:Torch]",
   "language": "python",
   "name": "conda-env-Torch-py"
  },
  "language_info": {
   "codemirror_mode": {
    "name": "ipython",
    "version": 2
   },
   "file_extension": ".py",
   "mimetype": "text/x-python",
   "name": "python",
   "nbconvert_exporter": "python",
   "pygments_lexer": "ipython2",
   "version": "2.7.6"
  }
 },
 "nbformat": 4,
 "nbformat_minor": 5
}
